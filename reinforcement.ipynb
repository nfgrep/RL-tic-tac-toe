{
  "nbformat": 4,
  "nbformat_minor": 0,
  "metadata": {
    "colab": {
      "name": "reinforcement.ipynb",
      "provenance": [],
      "collapsed_sections": [],
      "authorship_tag": "ABX9TyNb53nWfbEd4ZVVZBzHItAK"
    },
    "kernelspec": {
      "name": "python3",
      "display_name": "Python 3"
    }
  },
  "cells": [
    {
      "cell_type": "markdown",
      "metadata": {
        "id": "skmE0YZM2sXx"
      },
      "source": [
        "## Might be usefull later, but for now useless"
      ]
    },
    {
      "cell_type": "markdown",
      "metadata": {
        "id": "LmjY23ui26hD"
      },
      "source": [
        "## Imports"
      ]
    },
    {
      "cell_type": "code",
      "metadata": {
        "id": "RQRGrVmcYu9m"
      },
      "source": [
        "from itertools import permutations"
      ],
      "execution_count": 31,
      "outputs": []
    },
    {
      "cell_type": "code",
      "metadata": {
        "id": "00sTGpSytngB"
      },
      "source": [
        "import random"
      ],
      "execution_count": 32,
      "outputs": []
    },
    {
      "cell_type": "markdown",
      "metadata": {
        "id": "rDq8YeLS3PW4"
      },
      "source": [
        "## Vars"
      ]
    },
    {
      "cell_type": "code",
      "metadata": {
        "id": "7Dw_soFu08vn"
      },
      "source": [
        "player_options = [\n",
        "        [\"X\",None,None,\n",
        "         None,None,None,\n",
        "         None,None,None],\n",
        "\n",
        "         [None,\"X\",None,\n",
        "          None,None,None,\n",
        "          None,None,None],\n",
        "\n",
        "          [None,None,\"X\",\n",
        "          None,None,None,\n",
        "          None,None,None],\n",
        "\n",
        "          [None,None,None,\n",
        "          \"X\",None,None,\n",
        "          None,None,None],\n",
        "\n",
        "          [None,None,None,\n",
        "          None,\"X\",None,\n",
        "          None,None,None],\n",
        "\n",
        "          [None,None,None,\n",
        "          None,None,\"X\",\n",
        "          None,None,None],\n",
        "\n",
        "          [None,None,None,\n",
        "          None,None,None,\n",
        "          \"X\",None,None],\n",
        "\n",
        "          [None,None,None,\n",
        "          None,None,None,\n",
        "          None,\"X\",None],\n",
        "\n",
        "          [None,None,None,\n",
        "          None,None,None,\n",
        "          None,None,\"X\"]\n",
        "]"
      ],
      "execution_count": 33,
      "outputs": []
    },
    {
      "cell_type": "code",
      "metadata": {
        "id": "rFGPqxGoZo-y"
      },
      "source": [
        "class State:\n",
        "  def __init__(self, env, value, parent, children):\n",
        "    self.parent = parent\n",
        "    self.children = children\n",
        "    self.env = env\n",
        "    self.value = value"
      ],
      "execution_count": 34,
      "outputs": []
    },
    {
      "cell_type": "code",
      "metadata": {
        "id": "qpKOpedBsBG3"
      },
      "source": [
        "# Root state\n",
        "root_state = State([None,None,None,\n",
        "                   None,None,None,\n",
        "                   None,None,None], \n",
        "                   None,\n",
        "                   None,\n",
        "                   [])\n",
        "\n"
      ],
      "execution_count": 35,
      "outputs": []
    },
    {
      "cell_type": "code",
      "metadata": {
        "id": "5EHqflm9e6zW"
      },
      "source": [
        "curr_state = root_state"
      ],
      "execution_count": 50,
      "outputs": []
    },
    {
      "cell_type": "markdown",
      "metadata": {
        "id": "u3VLMe3P3Y1J"
      },
      "source": [
        "## Functions"
      ]
    },
    {
      "cell_type": "code",
      "metadata": {
        "id": "Utmcxhu4UfwX"
      },
      "source": [
        "# If exist in the tree, return it, if not, add it\n",
        "def get_new_state(state, action):\n",
        "  new_state = State([],0,state,[])\n",
        "\n",
        "  if action == None:\n",
        "    return state\n",
        "  \n",
        "  # Set the new state env after action\n",
        "  for state_action in zip(state.env,action):\n",
        "    if(state_action[0] == None and state_action[1] != None):\n",
        "      new_state.env.append(state_action[1])\n",
        "    else:\n",
        "      new_state.env.append(state_action[0])\n",
        "\n",
        "  # If this state env already in tree, return it\n",
        "  if state.children != None:\n",
        "    for child_state in state.children:\n",
        "      if child_state.env == new_state.env:\n",
        "        return child_state\n",
        "  \n",
        "  # If not, append this new state to tree and return it\n",
        "  new_state.parent = state\n",
        "  state.children.append(new_state)\n",
        "  return new_state "
      ],
      "execution_count": 37,
      "outputs": []
    },
    {
      "cell_type": "code",
      "metadata": {
        "id": "apI7GbkUIj1h"
      },
      "source": [
        "def player_turn(state, action):\n",
        "  return get_new_state(state,action)"
      ],
      "execution_count": 38,
      "outputs": []
    },
    {
      "cell_type": "code",
      "metadata": {
        "id": "qkTBlTOYHfc3"
      },
      "source": [
        "# Takes state and returns an action\n",
        "def agent_turn(state):\n",
        "\n",
        "  # Determine possible actions\n",
        "  possible_actions = []\n",
        "  for i in range(0,len(state.env)):\n",
        "    if state.env[i] == None:\n",
        "      new_action = [None] * 9\n",
        "      new_action[i] = \"O\"\n",
        "      possible_actions.append(new_action)\n",
        "\n",
        "  # print(\"possible actions: \",possible_actions)\n",
        "  # print(\"state: \", state.env)\n",
        "\n",
        "  # Exploit or Expore\n",
        "  # For now, we will always exploit, unless we have not seen this state\n",
        "  # If we have not seen this state, we choose randomly, e.g. Explore\n",
        "  exploit = True\n",
        "  explore = False\n",
        "\n",
        "  # Exploit: refer to seen states, choose action that yields highest value state\n",
        "  if exploit:\n",
        "    better_action_found = False\n",
        "    best_action = possible_actions[0]\n",
        "    best_value_state = get_new_state(state,best_action)\n",
        "\n",
        "    for action in possible_actions[1:]: \n",
        "      new_possible_state = get_new_state(state,action)\n",
        "      \n",
        "      if new_possible_state.value > best_value_state.value:\n",
        "        better_action_found = True\n",
        "        best_action = action\n",
        "      \n",
        "      best_value_state = get_new_state(state,best_action)\n",
        "  \n",
        "  if explore or not better_action_found:\n",
        "    # Explore: select from possible actions randomly\n",
        "    best_action = random.choice(possible_actions)\n",
        "\n",
        "  # Make the play\n",
        "  return get_new_state(state,best_action)"
      ],
      "execution_count": 78,
      "outputs": []
    },
    {
      "cell_type": "code",
      "metadata": {
        "id": "KTstkx39xJcq"
      },
      "source": [
        "def check_for_win(state):\n",
        "  # Horizontal lines\n",
        "  if state.env[0] == state.env[1] == state.env[2] != None:\n",
        "    return state.env[1]\n",
        "  if state.env[3] == state.env[4] == state.env[5] != None:\n",
        "    return state.env[4]\n",
        "  if state.env[6] == state.env[7] == state.env[8] != None:\n",
        "    return state.env[7]\n",
        "  # Vertical lines\n",
        "  if state.env[0] == state.env[3] == state.env[6] != None:\n",
        "    return state.env[3]\n",
        "  if state.env[1] == state.env[4] == state.env[7] != None:\n",
        "    return state.env[4]\n",
        "  if state.env[2] == state.env[5] == state.env[8] != None:\n",
        "    return state.env[5]\n",
        "  # Diagonals\n",
        "  if state.env[0] == state.env[4] == state.env[8] != None:\n",
        "    return state.env[4]\n",
        "  if state.env[2] == state.env[4] == state.env[6] != None:\n",
        "    return state.env[4]"
      ],
      "execution_count": 40,
      "outputs": []
    },
    {
      "cell_type": "code",
      "metadata": {
        "id": "4TquM4YZ6BlB"
      },
      "source": [
        "step_size = 0.1\n",
        "def value_function(state):\n",
        "  return step_size*(state.value - state.parent.value)"
      ],
      "execution_count": 41,
      "outputs": []
    },
    {
      "cell_type": "code",
      "metadata": {
        "id": "QqTnCITPSU8y"
      },
      "source": [
        "def back_propagate(state):\n",
        "  state_iter = state\n",
        "  while state_iter.parent.value != None:\n",
        "    state_iter.parent.value = value_function(state_iter)\n",
        "    state_iter = state_iter.parent"
      ],
      "execution_count": 42,
      "outputs": []
    },
    {
      "cell_type": "code",
      "metadata": {
        "id": "uBOODnFv9w7l"
      },
      "source": [
        "def print_state(state):\n",
        "  print(str(state.env[0]).center(6,' '), \" | \", str(state.env[1]).center(6,' '), \" | \", str(state.env[2]).center(6,' '))\n",
        "  print(str(state.env[3]).center(6,' '), \" | \", str(state.env[4]).center(6,' '), \" | \", str(state.env[5]).center(6,' '))\n",
        "  print(str(state.env[6]).center(6,' '), \" | \", str(state.env[7]).center(6,' '), \" | \", str(state.env[8]).center(6,' '))"
      ],
      "execution_count": 94,
      "outputs": []
    },
    {
      "cell_type": "markdown",
      "metadata": {
        "id": "7dLTXrnZ3hlh"
      },
      "source": [
        "## Execution"
      ]
    },
    {
      "cell_type": "code",
      "metadata": {
        "id": "gmMLyun80kGh"
      },
      "source": [
        "# Gameloop\n",
        "curr_state = root_state\n",
        "while (1):\n",
        "  print(\"\\nyour turn:\")\n",
        "  player_choice = input(\"\\n0 | 1 | 2\\n3 | 4 | 5\\n6 | 7 | 8\\n\\n\")\n",
        "\n",
        "  curr_state = player_turn(curr_state,player_options[int(player_choice)])\n",
        "\n",
        "  print_state(curr_state)\n",
        "\n",
        "  if check_for_win(curr_state) == \"X\":\n",
        "    curr_state.value = -1 # This was a loss for the agent\n",
        "    back_propagate(curr_state)\n",
        "    break\n",
        "  elif None not in curr_state.env:\n",
        "    curr_state = root_state\n",
        "    break\n",
        "    \n",
        "  print(\"\\nagent's turn...\")\n",
        "  curr_state = agent_turn(curr_state)\n",
        "\n",
        "  print_state(curr_state)\n",
        "\n",
        "  if check_for_win(curr_state) == \"O\":\n",
        "    curr_state.value = 1 # This was a win for the agent\n",
        "    back_propagate(curr_state)\n",
        "    break\n",
        "  elif None not in curr_state.env:\n",
        "    curr_state = root_state\n",
        "    break"
      ],
      "execution_count": null,
      "outputs": []
    },
    {
      "cell_type": "code",
      "metadata": {
        "id": "VpPT3kDGmk3R"
      },
      "source": [
        "# Randomly plays moves, for training!\n",
        "curr_state = root_state\n",
        "for i in range(0,1000000):\n",
        "\n",
        "  player_choice = random.choice(player_options)\n",
        "  curr_state = player_turn(curr_state, player_choice)\n",
        "\n",
        "  if check_for_win(curr_state) == \"X\":\n",
        "    curr_state.value = -1 # This was a loss for the agent\n",
        "    back_propagate(curr_state)\n",
        "    curr_state = root_state\n",
        "    continue\n",
        "  elif None not in curr_state.env:\n",
        "    curr_state = root_state\n",
        "    continue\n",
        "  \n",
        "  curr_state = agent_turn(curr_state)\n",
        "  if check_for_win(curr_state) == \"O\":\n",
        "    curr_state.value = 1 # This was a win for the agent\n",
        "    back_propagate(curr_state)\n",
        "    curr_state = root_state\n",
        "    continue\n",
        "  elif None not in curr_state.env:\n",
        "    curr_state = root_state\n",
        "    continue"
      ],
      "execution_count": 82,
      "outputs": []
    },
    {
      "cell_type": "markdown",
      "metadata": {
        "id": "ebBfF-Cj9bjN"
      },
      "source": [
        "## Traversing the state tree"
      ]
    },
    {
      "cell_type": "code",
      "metadata": {
        "id": "ngELPMxH1RMY"
      },
      "source": [
        "# Print most recently backpropagated path\n",
        "state_iter = curr_state\n",
        "while state_iter.value != None:\n",
        "    print(state_iter.env)\n",
        "    print(state_iter.value)\n",
        "    state_iter = state_iter.parent"
      ],
      "execution_count": null,
      "outputs": []
    },
    {
      "cell_type": "code",
      "metadata": {
        "id": "ttQuYPgyf4e2"
      },
      "source": [
        "# prints entire tree\n",
        "# tree will be huge if 'trained', careful!\n",
        "def traverse(state):\n",
        "  print(\"\\n\")\n",
        "  print(state.env, \" : \", state.value)\n",
        "  print(\"children:\")\n",
        "  for child in state.children:\n",
        "    print(child.env, \" : \", child.value)\n",
        "\n",
        "  for child in state.children:\n",
        "    traverse(child)\n",
        "\n",
        "traverse(root_state)"
      ],
      "execution_count": null,
      "outputs": []
    }
  ]
}