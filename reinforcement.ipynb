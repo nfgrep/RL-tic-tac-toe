{
  "nbformat": 4,
  "nbformat_minor": 0,
  "metadata": {
    "colab": {
      "name": "reinforcement.ipynb",
      "provenance": [],
      "collapsed_sections": [],
      "toc_visible": true,
      "authorship_tag": "ABX9TyMoAejkgbr6YuV2YYNqQf/u",
      "include_colab_link": true
    },
    "kernelspec": {
      "name": "python3",
      "display_name": "Python 3"
    }
  },
  "cells": [
    {
      "cell_type": "markdown",
      "metadata": {
        "id": "view-in-github",
        "colab_type": "text"
      },
      "source": [
        "<a href=\"https://colab.research.google.com/github/nfgrep/RL_tic_tac_toe/blob/main/reinforcement.ipynb\" target=\"_parent\"><img src=\"https://colab.research.google.com/assets/colab-badge.svg\" alt=\"Open In Colab\"/></a>"
      ]
    },
    {
      "cell_type": "markdown",
      "metadata": {
        "id": "skmE0YZM2sXx"
      },
      "source": [
        "## Might be usefull later, but for now useless"
      ]
    },
    {
      "cell_type": "markdown",
      "metadata": {
        "id": "LmjY23ui26hD"
      },
      "source": [
        "## Imports"
      ]
    },
    {
      "cell_type": "code",
      "metadata": {
        "id": "RQRGrVmcYu9m"
      },
      "source": [
        "from itertools import permutations"
      ],
      "execution_count": 45,
      "outputs": []
    },
    {
      "cell_type": "code",
      "metadata": {
        "id": "00sTGpSytngB"
      },
      "source": [
        "import random"
      ],
      "execution_count": 46,
      "outputs": []
    },
    {
      "cell_type": "markdown",
      "metadata": {
        "id": "rDq8YeLS3PW4"
      },
      "source": [
        "## Globals"
      ]
    },
    {
      "cell_type": "code",
      "metadata": {
        "id": "rFGPqxGoZo-y"
      },
      "source": [
        "class State:\n",
        "  def __init__(self, env, value, parent, children):\n",
        "    self.parent = parent\n",
        "    self.children = children\n",
        "    self.env = env\n",
        "    self.value = value"
      ],
      "execution_count": 7,
      "outputs": []
    },
    {
      "cell_type": "code",
      "metadata": {
        "id": "qpKOpedBsBG3"
      },
      "source": [
        "# Root state\n",
        "root_state = State([None,None,None,\n",
        "                   None,None,None,\n",
        "                   None,None,None], \n",
        "                   None,\n",
        "                   None,\n",
        "                   [])\n",
        "\n",
        "curr_state = root_state"
      ],
      "execution_count": 176,
      "outputs": []
    },
    {
      "cell_type": "markdown",
      "metadata": {
        "id": "u3VLMe3P3Y1J"
      },
      "source": [
        "## Functions"
      ]
    },
    {
      "cell_type": "code",
      "metadata": {
        "id": "Utmcxhu4UfwX"
      },
      "source": [
        "# If exist in the tree, return it, if not, add it\n",
        "def get_new_state(state, action):\n",
        "  new_state = State([],0,state,[])\n",
        "\n",
        "  if action == None:\n",
        "    return state\n",
        "  \n",
        "  # Set the new state env after action\n",
        "  for state_action in zip(state.env,action):\n",
        "    if(state_action[0] == None and state_action[1] != None):\n",
        "      new_state.env.append(state_action[1])\n",
        "    else:\n",
        "      new_state.env.append(state_action[0])\n",
        "\n",
        "  # If this state env already in tree, return it\n",
        "  if state.children != None:\n",
        "    for child_state in state.children:\n",
        "      if child_state.env == new_state.env:\n",
        "        return child_state\n",
        "  \n",
        "  # If not, append this new state to tree and return it\n",
        "  new_state.parent = state\n",
        "  state.children.append(new_state)\n",
        "  return new_state "
      ],
      "execution_count": 172,
      "outputs": []
    },
    {
      "cell_type": "code",
      "metadata": {
        "id": "apI7GbkUIj1h"
      },
      "source": [
        "def player_turn(state, action):\n",
        "  return get_new_state(state,action)"
      ],
      "execution_count": 3,
      "outputs": []
    },
    {
      "cell_type": "code",
      "metadata": {
        "id": "qkTBlTOYHfc3"
      },
      "source": [
        "# Takes state and returns an action\n",
        "def agent_turn(state):\n",
        "\n",
        "  # Determine possible actions\n",
        "  possible_actions = []\n",
        "  for i in range(0,len(state.env)):\n",
        "    if state.env[i] == None:\n",
        "      new_action = [None] * 9\n",
        "      new_action[i] = \"O\"\n",
        "      possible_actions.append(new_action)\n",
        "\n",
        "  # Exploit or Expore\n",
        "  # For now, we will always exploit, unless we have not seen this state\n",
        "  # If we have not seen this state, we choose randomly, e.g. Explore\n",
        "  exploit = True\n",
        "  explore = True\n",
        "\n",
        "  # Exploit: refer to seen states, choose action that yields highest value state\n",
        "  if exploit:\n",
        "    best_action = possible_actions[0]\n",
        "    best_value_state = get_new_state(state,best_action)\n",
        "\n",
        "    for action in possible_actions[1:]: \n",
        "      new_possible_state = get_new_state(state,action)\n",
        "      \n",
        "      if new_possible_state.value > best_value_state.value:\n",
        "        best_action = action\n",
        "      \n",
        "      best_value_state = get_new_state(state,best_action)\n",
        "  \n",
        "  if explore:\n",
        "    # Explore: select from possible actions randomly\n",
        "    best_action = random.choice(possible_actions)\n",
        "\n",
        "  # Make the play\n",
        "  return get_new_state(state,best_action)"
      ],
      "execution_count": 50,
      "outputs": []
    },
    {
      "cell_type": "code",
      "metadata": {
        "id": "KTstkx39xJcq"
      },
      "source": [
        "def check_for_win(state):\n",
        "  # Horizontal lines\n",
        "  if state.env[0] == state.env[1] == state.env[2] != None:\n",
        "    return state.env[1]\n",
        "  if state.env[3] == state.env[4] == state.env[5] != None:\n",
        "    return state.env[4]\n",
        "  if state.env[6] == state.env[7] == state.env[8] != None:\n",
        "    return state.env[7]\n",
        "  # Vertical lines\n",
        "  if state.env[0] == state.env[3] == state.env[6] != None:\n",
        "    return state.env[3]\n",
        "  if state.env[1] == state.env[4] == state.env[7] != None:\n",
        "    return state.env[4]\n",
        "  if state.env[2] == state.env[5] == state.env[8] != None:\n",
        "    return state.env[5]\n",
        "  # Diagonals\n",
        "  if state.env[0] == state.env[4] == state.env[8] != None:\n",
        "    return state.env[4]\n",
        "  if state.env[2] == state.env[4] == state.env[6] != None:\n",
        "    return state.env[4]"
      ],
      "execution_count": 118,
      "outputs": []
    },
    {
      "cell_type": "code",
      "metadata": {
        "id": "4TquM4YZ6BlB"
      },
      "source": [
        "step_size = 0.1\n",
        "def value_function(state):\n",
        "  return step_size*(state.value - state.parent.value)"
      ],
      "execution_count": 135,
      "outputs": []
    },
    {
      "cell_type": "code",
      "metadata": {
        "id": "QqTnCITPSU8y"
      },
      "source": [
        "def back_propagate(state):\n",
        "  state_iter = state\n",
        "  while state_iter.parent.value != None:\n",
        "    state_iter.parent.value = value_function(state_iter) # this should be a value function, not 0.1\n",
        "    state_iter = state_iter.parent"
      ],
      "execution_count": 150,
      "outputs": []
    },
    {
      "cell_type": "markdown",
      "metadata": {
        "id": "7dLTXrnZ3hlh"
      },
      "source": [
        "## Execution"
      ]
    },
    {
      "cell_type": "code",
      "metadata": {
        "id": "MWKEMXkXtvrM",
        "colab": {
          "base_uri": "https://localhost:8080/"
        },
        "outputId": "e1cb9d87-c5fb-4b23-a5df-72fa297a3a34"
      },
      "source": [
        "curr_state = player_turn(curr_state,\n",
        "        [None,None,None,\n",
        "         None,None,\"X\",\n",
        "         None,None,None])\n",
        "\n",
        "if check_for_win(curr_state) == 'X':\n",
        "  curr_state.value = -1 # This was a loss for the agent\n",
        "  back_propagate(curr_state)\n",
        "\n",
        "curr_state.env"
      ],
      "execution_count": 181,
      "outputs": [
        {
          "output_type": "execute_result",
          "data": {
            "text/plain": [
              "['O', None, None, 'X', 'X', 'X', None, None, 'O']"
            ]
          },
          "metadata": {
            "tags": []
          },
          "execution_count": 181
        }
      ]
    },
    {
      "cell_type": "code",
      "metadata": {
        "colab": {
          "base_uri": "https://localhost:8080/"
        },
        "id": "8CVUq14U0yfm",
        "outputId": "7f79ffb3-a9eb-4b87-dbd3-e4138ebf26f6"
      },
      "source": [
        "curr_state = agent_turn(curr_state)\n",
        "\n",
        "if check_for_win(curr_state) == \"O\":\n",
        "  curr_state.value = 1\n",
        "  back_propagate(curr_state)\n",
        "  # state_iter = curr_state.parent\n",
        "  # while state_iter != None:\n",
        "  #   state_iter.value += 0.1 # this should be a value function, not 0.1\n",
        "  #   state_iter = state_iter.parent\n",
        "\n",
        "curr_state.env"
      ],
      "execution_count": 180,
      "outputs": [
        {
          "output_type": "execute_result",
          "data": {
            "text/plain": [
              "['O', None, None, 'X', 'X', None, None, None, 'O']"
            ]
          },
          "metadata": {
            "tags": []
          },
          "execution_count": 180
        }
      ]
    },
    {
      "cell_type": "markdown",
      "metadata": {
        "id": "ebBfF-Cj9bjN"
      },
      "source": [
        "## Visualizations"
      ]
    },
    {
      "cell_type": "code",
      "metadata": {
        "colab": {
          "base_uri": "https://localhost:8080/"
        },
        "id": "ngELPMxH1RMY",
        "outputId": "fc99f740-9520-4192-8e32-9087063b4ad8"
      },
      "source": [
        "# Print backpropagated path\n",
        "state_iter = curr_state\n",
        "while state_iter.value != None:\n",
        "    print(state_iter.env)\n",
        "    print(state_iter.value)\n",
        "    state_iter = state_iter.parent"
      ],
      "execution_count": 182,
      "outputs": [
        {
          "output_type": "stream",
          "text": [
            "['O', None, None, 'X', 'X', 'X', None, None, 'O']\n",
            "-1\n",
            "['O', None, None, 'X', 'X', None, None, None, 'O']\n",
            "-0.1\n",
            "['O', None, None, 'X', 'X', None, None, None, None]\n",
            "-0.010000000000000002\n",
            "['O', None, None, None, 'X', None, None, None, None]\n",
            "-0.0010000000000000002\n",
            "[None, None, None, None, 'X', None, None, None, None]\n",
            "-0.00010000000000000003\n"
          ],
          "name": "stdout"
        }
      ]
    },
    {
      "cell_type": "code",
      "metadata": {
        "colab": {
          "base_uri": "https://localhost:8080/"
        },
        "id": "C61wOMUbIYaE",
        "outputId": "43477c3c-7adb-4e22-ed59-ac5d3ba640a6"
      },
      "source": [
        "# TODO: actually traverse this properly,\n",
        "# currently only traverses throught the first child of every node\n",
        "# Print current state tree\n",
        "state_iter = root_state\n",
        "while len(state_iter.children) != 0:\n",
        "    print(\"State: \", state_iter.env, \" : \", state_iter.value)\n",
        "    print(\"Children:\")\n",
        "    for child in state_iter.children:\n",
        "      print(child.env)\n",
        "\n",
        "    if len(state_iter.children)!= 0:\n",
        "      state_iter = state_iter.children[0]"
      ],
      "execution_count": 187,
      "outputs": [
        {
          "output_type": "stream",
          "text": [
            "State:  [None, None, None, None, None, None, None, None, None]  :  None\n",
            "Children:\n",
            "[None, None, None, None, 'X', None, None, None, None]\n",
            "State:  [None, None, None, None, 'X', None, None, None, None]  :  -0.00010000000000000003\n",
            "Children:\n",
            "['O', None, None, None, 'X', None, None, None, None]\n",
            "[None, 'O', None, None, 'X', None, None, None, None]\n",
            "[None, None, 'O', None, 'X', None, None, None, None]\n",
            "[None, None, None, 'O', 'X', None, None, None, None]\n",
            "[None, None, None, None, 'X', 'O', None, None, None]\n",
            "[None, None, None, None, 'X', None, 'O', None, None]\n",
            "[None, None, None, None, 'X', None, None, 'O', None]\n",
            "[None, None, None, None, 'X', None, None, None, 'O']\n",
            "State:  ['O', None, None, None, 'X', None, None, None, None]  :  -0.0010000000000000002\n",
            "Children:\n",
            "['O', None, None, 'X', 'X', None, None, None, None]\n",
            "State:  ['O', None, None, 'X', 'X', None, None, None, None]  :  -0.010000000000000002\n",
            "Children:\n",
            "['O', 'O', None, 'X', 'X', None, None, None, None]\n",
            "['O', None, 'O', 'X', 'X', None, None, None, None]\n",
            "['O', None, None, 'X', 'X', 'O', None, None, None]\n",
            "['O', None, None, 'X', 'X', None, 'O', None, None]\n",
            "['O', None, None, 'X', 'X', None, None, 'O', None]\n",
            "['O', None, None, 'X', 'X', None, None, None, 'O']\n"
          ],
          "name": "stdout"
        }
      ]
    },
    {
      "cell_type": "markdown",
      "metadata": {
        "id": "fJDKPIE33rg1"
      },
      "source": [
        "# TODO:\n",
        "\n",
        "*   Setup and add new states to a state tree\n",
        "*   Back propagate the values via the state tree on win and loss\n",
        "\n"
      ]
    }
  ]
}